{
 "cells": [
  {
   "cell_type": "markdown",
   "metadata": {},
   "source": [
    "# Prepare Data"
   ]
  },
  {
   "cell_type": "code",
   "execution_count": 2,
   "metadata": {},
   "outputs": [],
   "source": [
    "import pandas as pd\n",
    "import numpy as np\n",
    "import pickle\n",
    "import torch\n",
    "from torch_geometric.data import Data, InMemoryDataset, DataLoader, Batch\n",
    "import time\n",
    "import matplotlib.pyplot as plt\n",
    "from datetime import datetime\n",
    "import os\n",
    "\n",
    "model_path = './models/'\n",
    "data_path = './data/'"
   ]
  },
  {
   "cell_type": "code",
   "execution_count": 3,
   "metadata": {},
   "outputs": [
    {
     "name": "stdout",
     "output_type": "stream",
     "text": [
      "total num of edges:  921600\n"
     ]
    },
    {
     "data": {
      "text/plain": [
       "<function matplotlib.pyplot.show(*args, **kw)>"
      ]
     },
     "execution_count": 3,
     "metadata": {},
     "output_type": "execute_result"
    },
    {
     "data": {
      "image/png": "[encoded data removed]",
      "text/plain": [
       "<Figure size 432x288 with 1 Axes>"
      ]
     },
     "metadata": {
      "needs_background": "light"
     },
     "output_type": "display_data"
    }
   ],
   "source": [
    "# first read in the fusion-graph\n",
    "with open(data_path + 'fusion_graph.pickle', 'rb') as openfile:\n",
    "    fusion_graph = pickle.load(openfile)\n",
    "    \n",
    "edge_list = []\n",
    "for i in range(fusion_graph.shape[0]):\n",
    "    for j in range(fusion_graph.shape[1]):\n",
    "        edge_list.append(fusion_graph[i][j])\n",
    "        \n",
    "print('total num of edges: ', len(edge_list))\n",
    "\n",
    "plt.hist(edge_list, bins=1000, range=(0.0, 0.0025))\n",
    "plt.ylim((0, 30000))\n",
    "plt.savefig('edge_weight_hist.png')\n",
    "plt.show"
   ]
  },
  {
   "cell_type": "code",
   "execution_count": 3,
   "metadata": {},
   "outputs": [
    {
     "data": {
      "text/plain": [
       "torch.Size([2, 94100])"
      ]
     },
     "execution_count": 3,
     "metadata": {},
     "output_type": "execute_result"
    }
   ],
   "source": [
    "# generate the Adjacency Matrix for the fusion graph (In COO format) and the list of edge weights\n",
    "# here, we trim the edges that have edge weight below a certain threshold (current = 0.00111)\n",
    "adj_row = []\n",
    "adj_col = []\n",
    "adj_data = []\n",
    "\n",
    "TRIM_THRESHOLD = 0.00111\n",
    "\n",
    "for i in range(fusion_graph.shape[0]):\n",
    "    for j in range(fusion_graph.shape[1]):\n",
    "        if fusion_graph[i][j] >= TRIM_THRESHOLD:\n",
    "            adj_row.append(i)\n",
    "            adj_col.append(j)\n",
    "            adj_data.append(fusion_graph[i][j])\n",
    "        \n",
    "edge_index = torch.LongTensor([adj_row, adj_col])\n",
    "edge_weight = torch.FloatTensor(adj_data)\n",
    "edge_index.shape"
   ]
  },
  {
   "cell_type": "markdown",
   "metadata": {},
   "source": [
    "# Training"
   ]
  },
  {
   "cell_type": "markdown",
   "metadata": {},
   "source": [
    "## Model Definition"
   ]
  },
  {
   "cell_type": "code",
   "execution_count": 5,
   "metadata": {},
   "outputs": [],
   "source": [
    "import torch\n",
    "import torch.nn.functional as F\n",
    "from torch_geometric.nn import GCNConv\n",
    "\n",
    "class GraphConv(torch.nn.Module):\n",
    "    def __init__(self, dim_in, dim_out):\n",
    "        super(GraphConv, self).__init__()\n",
    "        \n",
    "        self.dim_in = dim_in\n",
    "        self.dim_out = dim_out\n",
    "\n",
    "        # model definition\n",
    "        self.conv = GCNConv(dim_in, dim_out, cached=False)\n",
    "   \n",
    "    def forward(self, data):\n",
    "        x, edge_index, edge_weight = data.x, data.edge_index, data.edge_weight\n",
    "        \n",
    "        conv_feat = self.conv(x, edge_index, edge_weight=edge_weight)\n",
    "        conv_feat_act = F.relu(conv_feat)\n",
    "        \n",
    "        return conv_feat_act\n",
    "\n",
    "class Encoder(torch.nn.Module):\n",
    "    def __init__(self, input_dim, hid_dim, n_layers):\n",
    "        super().__init__()\n",
    "        \n",
    "        self.hid_dim = hid_dim\n",
    "        self.n_layers = n_layers\n",
    "        \n",
    "        self.lstm = torch.nn.LSTM(input_dim, hid_dim, n_layers)\n",
    "        \n",
    "    def forward(self, input_tensor):\n",
    "        \n",
    "        # input_tensor shape = (sequence length, batch size, feature vector size)\n",
    "        outputs, (hidden, cell) = self.lstm(input_tensor)\n",
    "        \n",
    "        return hidden, cell\n",
    "    \n",
    "class Decoder_Lin(torch.nn.Module):\n",
    "    def __init__(self, output_dim, hid_dim, n_layers):\n",
    "        super().__init__()\n",
    "        \n",
    "        self.output_dim = output_dim\n",
    "        self.hid_dim = hid_dim\n",
    "        self.n_layers = n_layers\n",
    "\n",
    "        self.lstm = torch.nn.LSTM(output_dim, hid_dim, n_layers)\n",
    "        self.lin = torch.nn.Linear(64, 2)\n",
    "        \n",
    "    def forward(self, input_tensor, hidden, cell):\n",
    "        \n",
    "        # input_tensor shape = (sequence length, batch size, feature vector size)\n",
    "        output, (hidden, cell) = self.lstm(input_tensor, (hidden, cell))\n",
    "        output = self.lin(output[-1, :, :])\n",
    "        # output = F.relu(output)\n",
    "        \n",
    "        return output, hidden, cell\n",
    "    \n",
    "class FC(torch.nn.Module):\n",
    "    def __init__(self, dim_in, dim_out):\n",
    "        super(FC ,self).__init__()\n",
    "        \n",
    "        # now we are just picking numbers arbitrarily\n",
    "        # could use some improvement\n",
    "        self.fc1 = torch.nn.Linear(dim_in, 64)\n",
    "        self.fc2 = torch.nn.Linear(64, 32)\n",
    "        self.fc3 = torch.nn.Linear(32, 16)\n",
    "        self.fc4 = torch.nn.Linear(16, dim_out)\n",
    "        \n",
    "    def forward(self, x):\n",
    "        x = F.relu(self.fc1(x))\n",
    "        x = F.relu(self.fc2(x))\n",
    "        x = F.relu(self.fc3(x))\n",
    "        x = self.fc4(x)\n",
    "        \n",
    "        return x"
   ]
  },
  {
   "cell_type": "markdown",
   "metadata": {},
   "source": [
    "## Support Funcitons\n"
   ]
  },
  {
   "cell_type": "code",
   "execution_count": 6,
   "metadata": {},
   "outputs": [],
   "source": [
    "def epoch_time(start_time, end_time):\n",
    "    elapsed_time = end_time - start_time\n",
    "    elapsed_mins = int(elapsed_time / 60)\n",
    "    elapsed_secs = int(elapsed_time - (elapsed_mins * 60))\n",
    "    return elapsed_mins, elapsed_secs"
   ]
  },
  {
   "cell_type": "code",
   "execution_count": 7,
   "metadata": {},
   "outputs": [],
   "source": [
    "def train(graph_conv, encoder, decoder, fc, optim_gcn, optim_encoder, optim_decoder, optim_fc, criterion, loader, is_training_pred=False):   \n",
    "    graph_conv.train()\n",
    "    encoder.train()\n",
    "    decoder.train()\n",
    "    fc.train()\n",
    " \n",
    "    epoch_loss = 0\n",
    "    \n",
    "    num_batch = len(loader)\n",
    "\n",
    "    for batch in loader:\n",
    "        batch.to(device)\n",
    "        y = batch.y.view(-1, NUM_NODE, 2)\n",
    "        batch_weather = batch.target_weather.view(-1, NUM_WEATHER_FEATURE)\n",
    "        \n",
    "        # GCN\n",
    "        conv_out = graph_conv(batch)\n",
    "        batch = None # release memory\n",
    "        \n",
    "        # prepare data for encoder-decoder\n",
    "        # pad first (WINDOW_SIZE - 1) entries with zero\n",
    "        pad = torch.zeros(WINDOW_SIZE - 1, NUM_NODE, EMB_DIM).to(device)        \n",
    "        \n",
    "        time_steps = torch.cat((pad, conv_out.view(-1, NUM_NODE, EMB_DIM)), 0)\n",
    "        \n",
    "        # generate data in a sliding window manner\n",
    "        encoder_in = torch.Tensor().to(device)\n",
    "        target = torch.Tensor().to(device)\n",
    "        weather = torch.Tensor().to(device)\n",
    "        \n",
    "        for i in range(time_steps.shape[0] - WINDOW_SIZE + 1):\n",
    "            encoder_in = torch.cat((encoder_in, time_steps[i:i + WINDOW_SIZE, :, :]), 1)\n",
    "            target = torch.cat((target, y[i, :, :]), 0)\n",
    "            \n",
    "            # tiling weather data\n",
    "            weather = torch.cat((weather, batch_weather[i, :].repeat(NUM_NODE)))\n",
    "        \n",
    "        \n",
    "        if is_training_pred is True:\n",
    "            hidden, cell = encoder(encoder_in)\n",
    "            \n",
    "            # concat the final state of the LSTM\n",
    "            cell_input = torch.cat((hidden.view(-1, 64), cell.view(-1, 64)), 1)\n",
    "            \n",
    "            # concat the weather data to the final state\n",
    "            fc_input = torch.cat((cell_input, weather.view(-1, 18)), 1)\n",
    "\n",
    "            # pass thru the FC layers\n",
    "            fc_output = fc(fc_input)\n",
    "            \n",
    "            # backprop\n",
    "            loss = torch.sqrt(criterion(fc_output, target))\n",
    "            epoch_loss += loss.item()\n",
    "            loss.backward(retain_graph=True)\n",
    "            \n",
    "            optim_gcn.step()\n",
    "            optim_encoder.step()\n",
    "            optim_fc.step()\n",
    "        else:\n",
    "            decoder_in = encoder_in[-DECODE_INTERVAL:, :, :]\n",
    "\n",
    "            # ENCODER-DECODER\n",
    "            hidden, cell = encoder(encoder_in)\n",
    "            output, h_out, c_out = decoder(decoder_in, hidden, cell)\n",
    "\n",
    "            # backprop\n",
    "            loss = torch.sqrt(criterion(output, target))\n",
    "            epoch_loss += loss.item()\n",
    "            loss.backward(retain_graph=True)\n",
    "\n",
    "            optim_gcn.step()\n",
    "            optim_encoder.step()\n",
    "            optim_decoder.step()\n",
    "        \n",
    "    return epoch_loss / num_batch"
   ]
  },
  {
   "cell_type": "code",
   "execution_count": 8,
   "metadata": {},
   "outputs": [
    {
     "name": "stdout",
     "output_type": "stream",
     "text": [
      "# Num of training data:  49414\n"
     ]
    }
   ],
   "source": [
    "# nvidia-smi is showing reversed order\n",
    "# GPU 1 is 'cuda:0' here\n",
    "device = torch.device('cuda:0')\n",
    "\n",
    "# HYPER_PARAM\n",
    "NUM_NODE = 960\n",
    "NUM_WINDOW = 10\n",
    "WINDOW_SIZE = 6\n",
    "EMB_DIM = 64\n",
    "DECODE_INTERVAL = 3\n",
    "LEARNING_RATE = 0.00001\n",
    "ENCODER_DECODER_EPOCH  = 50\n",
    "PREDICTION_EPOCH = 50\n",
    "NUM_WEATHER_FEATURE = 18\n",
    "\n",
    "with open(data_path + 'train_data_list.pickle', 'rb') as openfile:\n",
    "    train_data_list = pickle.load(openfile)\n",
    "    \n",
    "print('# Num of training data: ', len(train_data_list))\n",
    "\n",
    "# load dataset & weather data\n",
    "loader = DataLoader(train_data_list, batch_size = WINDOW_SIZE * NUM_WINDOW)\n",
    "\n",
    "# Model definition\n",
    "graph_conv = GraphConv(2, EMB_DIM).to(device)\n",
    "encoder = Encoder(EMB_DIM, EMB_DIM, 1).to(device)\n",
    "decoder = Decoder_Lin(EMB_DIM, EMB_DIM, 1).to(device)\n",
    "full_con = FC(EMB_DIM * 2 + NUM_WEATHER_FEATURE, 2).to(device)\n",
    "\n",
    "optim_gcn = torch.optim.Adam(graph_conv.parameters(), lr=LEARNING_RATE)\n",
    "optim_encoder = torch.optim.Adam(encoder.parameters(), lr=LEARNING_RATE)\n",
    "optim_decoder = torch.optim.Adam(decoder.parameters(), lr=LEARNING_RATE)\n",
    "optim_fc = torch.optim.Adam(full_con.parameters(), lr=LEARNING_RATE)\n",
    "\n",
    "# define loss\n",
    "criterion = torch.nn.MSELoss() "
   ]
  },
  {
   "cell_type": "code",
   "execution_count": null,
   "metadata": {},
   "outputs": [
    {
     "name": "stdout",
     "output_type": "stream",
     "text": [
      "----- Training the Encoder-Decoder Network ----- \n",
      "\n",
      "Epoch: 01 | Time: 3m 3s\n",
      "\tTrain Loss: 3.852\n",
      "Epoch: 02 | Time: 3m 5s\n",
      "\tTrain Loss: 3.481\n",
      "Epoch: 03 | Time: 3m 7s\n",
      "\tTrain Loss: 3.289\n",
      "Epoch: 04 | Time: 3m 8s\n",
      "\tTrain Loss: 3.140\n",
      "Epoch: 05 | Time: 3m 18s\n",
      "\tTrain Loss: 3.024\n",
      "Epoch: 06 | Time: 3m 12s\n",
      "\tTrain Loss: 2.939\n",
      "Epoch: 07 | Time: 3m 16s\n",
      "\tTrain Loss: 2.873\n",
      "Epoch: 08 | Time: 3m 17s\n",
      "\tTrain Loss: 2.816\n",
      "Epoch: 09 | Time: 3m 10s\n",
      "\tTrain Loss: 2.770\n",
      "Epoch: 10 | Time: 3m 7s\n",
      "\tTrain Loss: 2.729\n",
      "Epoch: 11 | Time: 3m 11s\n",
      "\tTrain Loss: 2.692\n",
      "Epoch: 12 | Time: 3m 12s\n",
      "\tTrain Loss: 2.661\n",
      "Epoch: 13 | Time: 3m 9s\n",
      "\tTrain Loss: 2.632\n",
      "Epoch: 14 | Time: 3m 10s\n",
      "\tTrain Loss: 2.606\n",
      "Epoch: 15 | Time: 3m 12s\n",
      "\tTrain Loss: 2.581\n",
      "Epoch: 16 | Time: 3m 10s\n",
      "\tTrain Loss: 2.558\n",
      "Epoch: 17 | Time: 3m 9s\n",
      "\tTrain Loss: 2.536\n",
      "Epoch: 18 | Time: 3m 7s\n",
      "\tTrain Loss: 2.517\n",
      "Epoch: 19 | Time: 3m 8s\n",
      "\tTrain Loss: 2.500\n",
      "Epoch: 20 | Time: 3m 11s\n",
      "\tTrain Loss: 2.484\n",
      "Epoch: 21 | Time: 3m 8s\n",
      "\tTrain Loss: 2.470\n",
      "Epoch: 22 | Time: 3m 8s\n",
      "\tTrain Loss: 2.456\n",
      "Epoch: 23 | Time: 3m 11s\n",
      "\tTrain Loss: 2.445\n",
      "Epoch: 24 | Time: 3m 10s\n",
      "\tTrain Loss: 2.434\n",
      "Epoch: 25 | Time: 3m 8s\n",
      "\tTrain Loss: 2.424\n",
      "Epoch: 26 | Time: 3m 9s\n",
      "\tTrain Loss: 2.415\n",
      "Epoch: 27 | Time: 3m 8s\n",
      "\tTrain Loss: 2.406\n",
      "Epoch: 28 | Time: 3m 10s\n",
      "\tTrain Loss: 2.397\n",
      "Epoch: 29 | Time: 3m 8s\n",
      "\tTrain Loss: 2.389\n",
      "Epoch: 30 | Time: 3m 7s\n",
      "\tTrain Loss: 2.384\n",
      "Epoch: 31 | Time: 3m 10s\n",
      "\tTrain Loss: 2.379\n",
      "Epoch: 32 | Time: 3m 10s\n",
      "\tTrain Loss: 2.371\n",
      "Epoch: 33 | Time: 3m 12s\n",
      "\tTrain Loss: 2.360\n",
      "Epoch: 34 | Time: 3m 8s\n",
      "\tTrain Loss: 2.355\n",
      "Epoch: 35 | Time: 3m 7s\n",
      "\tTrain Loss: 2.355\n",
      "Epoch: 36 | Time: 3m 8s\n",
      "\tTrain Loss: 2.355\n",
      "Epoch: 37 | Time: 3m 8s\n",
      "\tTrain Loss: 2.350\n",
      "Epoch: 38 | Time: 3m 8s\n",
      "\tTrain Loss: 2.337\n",
      "Epoch: 39 | Time: 3m 9s\n",
      "\tTrain Loss: 2.337\n",
      "Epoch: 40 | Time: 3m 9s\n",
      "\tTrain Loss: 2.338\n",
      "Epoch: 41 | Time: 3m 9s\n",
      "\tTrain Loss: 2.328\n"
     ]
    }
   ],
   "source": [
    "# Training the Encoder-Decoder\n",
    "print('----- Training the Encoder-Decoder Network ----- \\n')\n",
    "encode_decode_losses = []\n",
    "for epoch in range(ENCODER_DECODER_EPOCH):\n",
    "    \n",
    "    start_time = time.time()\n",
    "    \n",
    "    epoch_loss = train(graph_conv, encoder, decoder, full_con, optim_gcn, optim_encoder, optim_decoder, optim_fc, criterion, loader, is_training_pred=False)\n",
    "        \n",
    "    end_time = time.time()\n",
    "    epoch_mins, epoch_secs = epoch_time(start_time, end_time)\n",
    "    \n",
    "    print(f'Epoch: {epoch+1:02} | Time: {epoch_mins}m {epoch_secs}s')\n",
    "    print(f'\\tTrain Loss: {(epoch_loss):.3f}')\n",
    "    \n",
    "    encode_decode_losses.append(epoch_loss)\n",
    "\n",
    "    \n",
    "# Training the Prediction Network\n",
    "print('\\n ----- Training the Prediction Network ----- \\n')\n",
    "pred_losses = []\n",
    "for epoch in range(PREDICTION_EPOCH):\n",
    "    \n",
    "    start_time = time.time()\n",
    "    \n",
    "    epoch_loss = train(graph_conv, encoder, decoder, full_con, optim_gcn, optim_encoder, optim_decoder, optim_fc, criterion, loader, is_training_pred=True)\n",
    "        \n",
    "    end_time = time.time()\n",
    "    epoch_mins, epoch_secs = epoch_time(start_time, end_time)\n",
    "    \n",
    "    print(f'Epoch: {epoch+1:02} | Time: {epoch_mins}m {epoch_secs}s')\n",
    "    print(f'\\tTrain Loss: {(epoch_loss):.3f}')\n",
    "    \n",
    "    pred_losses.append(epoch_loss)\n",
    "    \n",
    "torch.save(graph_conv.state_dict(), model_path + 'graph_conv.pt')\n",
    "torch.save(encoder.state_dict(), model_path + 'encoder.pt')\n",
    "torch.save(decoder.state_dict(), model_path + 'decoder.pt')\n",
    "torch.save(full_con.state_dict(), model_path + 'fc.pt')"
   ]
  },
  {
   "cell_type": "markdown",
   "metadata": {},
   "source": [
    "## Plot The Training Loss"
   ]
  },
  {
   "cell_type": "code",
   "execution_count": 11,
   "metadata": {},
   "outputs": [
    {
     "data": {
      "image/png": "[encoded data removed]",
      "text/plain": [
       "<Figure size 432x288 with 1 Axes>"
      ]
     },
     "metadata": {
      "needs_background": "light"
     },
     "output_type": "display_data"
    }
   ],
   "source": [
    "# Encoder-decoder training\n",
    "x = np.arange(ENCODER_DECODER_EPOCH)\n",
    "\n",
    "plt.plot(x, encode_decode_losses)\n",
    "plt.title('Encoder-Decoder Training Loss')\n",
    "plt.xlabel('epoch')\n",
    "plt.ylabel('average loss (RMSE)')\n",
    "plt.savefig('')\n",
    "plt.show()"
   ]
  },
  {
   "cell_type": "code",
   "execution_count": 12,
   "metadata": {},
   "outputs": [
    {
     "data": {
      "image/png": "[encoded data removed]",
      "text/plain": [
       "<Figure size 432x288 with 1 Axes>"
      ]
     },
     "metadata": {
      "needs_background": "light"
     },
     "output_type": "display_data"
    }
   ],
   "source": [
    "# Prediction network training\n",
    "x = np.arange(PREDICTION_EPOCH)\n",
    "\n",
    "plt.plot(x, pred_losses)\n",
    "plt.title('Encoder-Decoder Training Loss')\n",
    "plt.xlabel('epoch')\n",
    "plt.ylabel('average loss (RMSE)')\n",
    "plt.show()"
   ]
  },
  {
   "cell_type": "code",
   "execution_count": null,
   "metadata": {},
   "outputs": [],
   "source": []
  }
 ],
 "metadata": {
  "kernelspec": {
   "display_name": "Python 3",
   "language": "python",
   "name": "python3"
  },
  "language_info": {
   "codemirror_mode": {
    "name": "ipython",
    "version": 3
   },
   "file_extension": ".py",
   "mimetype": "text/x-python",
   "name": "python",
   "nbconvert_exporter": "python",
   "pygments_lexer": "ipython3",
   "version": "3.6.8"
  }
 },
 "nbformat": 4,
 "nbformat_minor": 4
}
