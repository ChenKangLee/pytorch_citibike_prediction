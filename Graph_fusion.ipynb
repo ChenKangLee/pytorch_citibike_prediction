{
 "cells": [
  {
   "cell_type": "markdown",
   "metadata": {},
   "source": [
    "# Graph Generation"
   ]
  },
  {
   "cell_type": "code",
   "execution_count": 6,
   "metadata": {},
   "outputs": [],
   "source": [
    "import pandas as pd\n",
    "import numpy as np\n",
    "import pickle\n",
    "from scipy import stats\n",
    "import matplotlib.pyplot as plt\n",
    "\n",
    "datapath = './data/'"
   ]
  },
  {
   "cell_type": "code",
   "execution_count": 2,
   "metadata": {},
   "outputs": [],
   "source": [
    "with (open(datapath + 'stations_dict.pickle', \"rb\")) as openfile:\n",
    "    stations_dict = pickle.load(openfile)"
   ]
  },
  {
   "cell_type": "markdown",
   "metadata": {},
   "source": [
    "## Distance Graph"
   ]
  },
  {
   "cell_type": "code",
   "execution_count": 3,
   "metadata": {},
   "outputs": [],
   "source": [
    "with (open(datapath + 'station_distance.pickle', \"rb\")) as openfile:\n",
    "    station_distance_dict = pickle.load(openfile)"
   ]
  },
  {
   "cell_type": "code",
   "execution_count": 35,
   "metadata": {},
   "outputs": [],
   "source": [
    "shape = (len(stations_dict), len(stations_dict))\n",
    "distance_graph = np.zeros(shape)\n",
    "\n",
    "distance_list = []\n",
    "\n",
    "for start_id in station_distance_dict:\n",
    "    for end_id in station_distance_dict[start_id]:\n",
    "        if start_id != end_id:\n",
    "            \n",
    "            # index is the id mapped into array index with stations_dict\n",
    "            start_index = stations_dict[start_id]['index']\n",
    "            end_index = stations_dict[end_id]['index']\n",
    "            \n",
    "            # weight = distance^−1\n",
    "            if station_distance_dict[start_id][end_id] == 0:\n",
    "                print(start_id, end_id)\n",
    "                break\n",
    "            distance_graph[start_index, end_index] = 1 / station_distance_dict[start_id][end_id]\n",
    "            \n",
    "            # for the ECDF calcuations\n",
    "            distance_list.append(station_distance_dict[start_id][end_id])"
   ]
  },
  {
   "cell_type": "code",
   "execution_count": 38,
   "metadata": {},
   "outputs": [
    {
     "data": {
      "image/png": "[encoded data removed]",
      "text/plain": [
       "<Figure size 432x288 with 1 Axes>"
      ]
     },
     "metadata": {
      "needs_background": "light"
     },
     "output_type": "display_data"
    }
   ],
   "source": [
    "plt.hist(distance_list, bins=5000)\n",
    "plt.show()"
   ]
  },
  {
   "cell_type": "code",
   "execution_count": 5,
   "metadata": {},
   "outputs": [],
   "source": [
    "# generate the adjacency matrix for the graph\n",
    "distance_adj = np.array(list(map(lambda x: 1 if x > 0 else 0, distance_graph.flatten()))).reshape(shape)"
   ]
  },
  {
   "cell_type": "markdown",
   "metadata": {},
   "source": [
    "## Interaction Graph"
   ]
  },
  {
   "cell_type": "code",
   "execution_count": 39,
   "metadata": {},
   "outputs": [],
   "source": [
    "with (open(datapath + 'ride_count.pickle', \"rb\")) as openfile:\n",
    "    ride_count_dict = pickle.load(openfile)"
   ]
  },
  {
   "cell_type": "code",
   "execution_count": 40,
   "metadata": {},
   "outputs": [],
   "source": [
    "shape = (len(stations_dict), len(stations_dict))\n",
    "interaction_graph = np.zeros(shape)\n",
    "\n",
    "interaction_list = []\n",
    "\n",
    "for start_id in ride_count_dict:\n",
    "    for end_id in ride_count_dict[start_id]:\n",
    "\n",
    "        start_index = stations_dict[start_id]['index']\n",
    "        end_index = stations_dict[end_id]['index']\n",
    "        \n",
    "        interaction_graph[start_index, end_index] = ride_count_dict[start_id][end_id]\n",
    "        \n",
    "        interaction_list.append(ride_count_dict[start_id][end_id])"
   ]
  },
  {
   "cell_type": "code",
   "execution_count": 48,
   "metadata": {},
   "outputs": [
    {
     "data": {
      "image/png": "[encoded data removed]",
      "text/plain": [
       "<Figure size 432x288 with 1 Axes>"
      ]
     },
     "metadata": {
      "needs_background": "light"
     },
     "output_type": "display_data"
    }
   ],
   "source": [
    "plt.hist(interaction_list, bins=1000, range=(0, 0.1))\n",
    "plt.ylim((0, 100000))\n",
    "plt.show()"
   ]
  },
  {
   "cell_type": "code",
   "execution_count": 8,
   "metadata": {},
   "outputs": [],
   "source": [
    "# generate the adjacency matrix for the graph\n",
    "interaction_adj = np.array(list(map(lambda x: 1 if x > 0 else 0, interaction_graph.flatten()))).reshape(shape)\n",
    "\n",
    "# remove self loops?\n",
    "for i in range(interaction_adj.shape[0]):\n",
    "    interaction_adj[i][i] = 0"
   ]
  },
  {
   "cell_type": "markdown",
   "metadata": {},
   "source": [
    "## Correlation Graph"
   ]
  },
  {
   "cell_type": "code",
   "execution_count": 9,
   "metadata": {},
   "outputs": [],
   "source": [
    "with (open(datapath + 'in_hist.pickle', \"rb\")) as openfile:\n",
    "    inflow_hist_dict = pickle.load(openfile)\n",
    "    \n",
    "with (open(datapath + 'out_hist.pickle', \"rb\")) as openfile:\n",
    "    outflow_hist_dict = pickle.load(openfile)"
   ]
  },
  {
   "cell_type": "code",
   "execution_count": 10,
   "metadata": {},
   "outputs": [],
   "source": [
    "from scipy.stats import pearsonr\n",
    "\n",
    "inflow_correlation_graph = np.zeros(shape)\n",
    "outflow_correlation_graph = np.zeros(shape)\n",
    "\n",
    "# inflow correlation\n",
    "for id_x in inflow_hist_dict:\n",
    "    \n",
    "    flow_x = np.zeros((24,))\n",
    "    for i in range(24):\n",
    "        if i in inflow_hist_dict[id_x]:\n",
    "            flow_x[i] = inflow_hist_dict[id_x][i]\n",
    "    \n",
    "    for id_y in inflow_hist_dict:    \n",
    "        if id_x != id_y:\n",
    "            start_index = stations_dict[id_x]['index']\n",
    "            end_index = stations_dict[id_y]['index']\n",
    "            \n",
    "            \n",
    "            flow_y = np.zeros((24,))\n",
    "            for i in range(24):\n",
    "                if i in inflow_hist_dict[id_y]:\n",
    "                    flow_y[i] = inflow_hist_dict[id_y][i]\n",
    "                    \n",
    "            \n",
    "            inflow_correlation_graph[start_index][end_index] = pearsonr(flow_x, flow_y)[0]\n",
    "            \n",
    "# outflow correlation\n",
    "for id_x in outflow_hist_dict:\n",
    "    \n",
    "    flow_x = np.zeros((24,))\n",
    "    for i in range(24):\n",
    "        if i in outflow_hist_dict[id_x]:\n",
    "            flow_x[i] = outflow_hist_dict[id_x][i]\n",
    "    \n",
    "    for id_y in outflow_hist_dict:    \n",
    "        if id_x != id_y:\n",
    "            start_index = stations_dict[id_x]['index']\n",
    "            end_index = stations_dict[id_y]['index']\n",
    "            \n",
    "            flox_y = np.zeros((24,))\n",
    "            for i in range(24):\n",
    "                if i in outflow_hist_dict[id_x]:\n",
    "                    flow_x[i] = outflow_hist_dict[id_x][i]\n",
    "                    \n",
    "                if i in outflow_hist_dict[id_y]:\n",
    "                    flow_y[i] = outflow_hist_dict[id_y][i]\n",
    "                    \n",
    "            \n",
    "            outflow_correlation_graph[start_index][end_index] = pearsonr(flow_x, flow_y)[0]"
   ]
  },
  {
   "cell_type": "code",
   "execution_count": 11,
   "metadata": {},
   "outputs": [],
   "source": [
    "# generate the adjacency matrix for the graphs\n",
    "inflow_correlation_adj = np.array(list(map(lambda x: 1 if x > 0 else 0, inflow_correlation_graph.flatten()))).reshape(shape)\n",
    "outflow_correlation_adj = np.array(list(map(lambda x: 1 if x > 0 else 0, outflow_correlation_graph.flatten()))).reshape(shape)"
   ]
  },
  {
   "cell_type": "markdown",
   "metadata": {},
   "source": [
    "## Graph Fusion"
   ]
  },
  {
   "cell_type": "code",
   "execution_count": 12,
   "metadata": {},
   "outputs": [],
   "source": [
    "from numpy.linalg import pinv\n",
    "from scipy.special import softmax\n",
    "from sklearn import preprocessing\n",
    "\n",
    "# normalize the adjacency matrix: A′ = D^−1*A + I\n",
    "def normalize_adj(adj):\n",
    "    # calculate D\n",
    "    D = np.zeros(adj.shape)\n",
    "    for i in range(0, adj.shape[0]):\n",
    "        D[i][i] = adj[i].sum()\n",
    "        \n",
    "    # A′ = D^−1*A + I\n",
    "    a_norm = np.matmul(pinv(D), adj) + np.identity(adj.shape[0])\n",
    "    \n",
    "    return a_norm\n",
    "\n",
    "def graph_fusion(adjacency_list, weight_list):\n",
    "    \"\"\"\n",
    "    Performs graph fusion on list of graphs\n",
    "    (Note: the adjacency_list and weight_list must be in same order)\n",
    "    \n",
    "    Args:\n",
    "        adjacency_list (list): list of adjacency matrix as numpy arrays\n",
    "        weight_list (list): list of weight matrix as numpy arrays\n",
    "    \"\"\"\n",
    "    \n",
    "    shape = adjacency_list[0].shape\n",
    "    \n",
    "    # first we must normalize each weight matrix\n",
    "    # for now we are using scikit-learn normalization (normalizing over the whole matrix)\n",
    "    # potential alternatives are: row-wise normalization\n",
    "    weight_list_norm = []\n",
    "    for mat in weight_list:\n",
    "        weight_list_norm.append(preprocessing.normalize(mat))\n",
    "    \n",
    "    # element-wise softmax of weight matrices\n",
    "    weight_mtrx = np.stack(weight_list_norm) # shape [# of graph, # graph node, # graph node]\n",
    "    weight_mtrx_sftmx = np.array(weight_mtrx, dtype='float32') \n",
    "    for i in range(shape[0]):\n",
    "        for j in range(shape[1]):\n",
    "            weight_mtrx_sftmx[:, i, j] = softmax(weight_mtrx[:, i, j])\n",
    "                    \n",
    "    # normalize adjacency matrices\n",
    "    norm_adj_list = []\n",
    "    for adj in adjacency_list:\n",
    "        norm_adj_list.append(normalize_adj(adj)) \n",
    "    norm_adjacency = np.stack(norm_adj_list) # shape [# of graph, # graph node, # graph node]\n",
    "    \n",
    "    F = np.zeros(shape)\n",
    "    for i in range(shape[0]):\n",
    "        for j in range(shape[1]):\n",
    "            F[i][j] = np.multiply(weight_mtrx_sftmx[:,i ,j], norm_adjacency[:,i ,j]).sum()\n",
    "            \n",
    "    return F"
   ]
  },
  {
   "cell_type": "code",
   "execution_count": 13,
   "metadata": {},
   "outputs": [
    {
     "name": "stdout",
     "output_type": "stream",
     "text": [
      "CPU times: user 1min 20s, sys: 29.8 s, total: 1min 49s\n",
      "Wall time: 45 s\n"
     ]
    }
   ],
   "source": [
    "%%time\n",
    "# here we are using both the inflow and outflow graph\n",
    "## TODO: seperate usage?\n",
    "\n",
    "# distance-iteraction-correlation(inflow)\n",
    "adj_list = [distance_adj, interaction_adj, inflow_correlation_adj, outflow_correlation_adj]\n",
    "weight_list = [distance_graph, interaction_graph, inflow_correlation_graph, outflow_correlation_graph]\n",
    "\n",
    "fusion = graph_fusion(adj_list, weight_list)\n",
    "\n",
    "with open(datapath + 'fusion_graph.pickle', 'wb') as handle:\n",
    "    pickle.dump(fusion, handle, protocol=pickle.HIGHEST_PROTOCOL)"
   ]
  },
  {
   "cell_type": "code",
   "execution_count": null,
   "metadata": {},
   "outputs": [],
   "source": []
  }
 ],
 "metadata": {
  "kernelspec": {
   "display_name": "Python 3",
   "language": "python",
   "name": "python3"
  },
  "language_info": {
   "codemirror_mode": {
    "name": "ipython",
    "version": 3
   },
   "file_extension": ".py",
   "mimetype": "text/x-python",
   "name": "python",
   "nbconvert_exporter": "python",
   "pygments_lexer": "ipython3",
   "version": "3.6.8"
  }
 },
 "nbformat": 4,
 "nbformat_minor": 4
}
